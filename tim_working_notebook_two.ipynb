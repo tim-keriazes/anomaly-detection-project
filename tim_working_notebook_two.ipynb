{
 "cells": [
  {
   "cell_type": "code",
   "execution_count": 1,
   "id": "65f8cdd6",
   "metadata": {},
   "outputs": [],
   "source": [
    "import warnings\n",
    "warnings.filterwarnings(\"ignore\")\n",
    "import matplotlib.pyplot as plt\n",
    "\n",
    "import numpy as np\n",
    "import pandas as pd\n",
    "import seaborn as sns\n",
    "import env\n",
    "import joint_prepare"
   ]
  },
  {
   "cell_type": "code",
   "execution_count": 2,
   "id": "4e310d4a",
   "metadata": {},
   "outputs": [],
   "source": [
    "url = f'mysql+pymysql://{env.user}:{env.password}@{env.host}/curriculum_logs'\n",
    "query = '''\n",
    "Select * from logs\n",
    "left join cohorts on logs.cohort_id = cohorts.id\n",
    "ORDER BY date ASC, time ASC;\n",
    "'''\n",
    "df = pd.read_sql(query, url)"
   ]
  },
  {
   "cell_type": "code",
   "execution_count": 4,
   "id": "4729243b",
   "metadata": {},
   "outputs": [],
   "source": [
    "df,df_admin = joint_prepare.prepare_logs(df )"
   ]
  },
  {
   "cell_type": "code",
   "execution_count": 5,
   "id": "97f3ea86",
   "metadata": {},
   "outputs": [
    {
     "data": {
      "text/html": [
       "<div>\n",
       "<style scoped>\n",
       "    .dataframe tbody tr th:only-of-type {\n",
       "        vertical-align: middle;\n",
       "    }\n",
       "\n",
       "    .dataframe tbody tr th {\n",
       "        vertical-align: top;\n",
       "    }\n",
       "\n",
       "    .dataframe thead th {\n",
       "        text-align: right;\n",
       "    }\n",
       "</style>\n",
       "<table border=\"1\" class=\"dataframe\">\n",
       "  <thead>\n",
       "    <tr style=\"text-align: right;\">\n",
       "      <th></th>\n",
       "      <th>date</th>\n",
       "      <th>time</th>\n",
       "      <th>path</th>\n",
       "      <th>user_id</th>\n",
       "      <th>cohort_id</th>\n",
       "      <th>ip</th>\n",
       "      <th>name</th>\n",
       "      <th>start_date</th>\n",
       "      <th>end_date</th>\n",
       "      <th>created_at</th>\n",
       "      <th>program_id</th>\n",
       "      <th>primary_topic</th>\n",
       "      <th>subtopic</th>\n",
       "      <th>tertiary</th>\n",
       "    </tr>\n",
       "  </thead>\n",
       "  <tbody>\n",
       "    <tr>\n",
       "      <th>0</th>\n",
       "      <td>2018-01-26</td>\n",
       "      <td>09:55:03</td>\n",
       "      <td>/</td>\n",
       "      <td>1</td>\n",
       "      <td>8.0</td>\n",
       "      <td>97.105.19.61</td>\n",
       "      <td>Hampton</td>\n",
       "      <td>2015-09-22</td>\n",
       "      <td>2016-02-06</td>\n",
       "      <td>2016-06-14 19:52:26</td>\n",
       "      <td>1.0</td>\n",
       "      <td></td>\n",
       "      <td></td>\n",
       "      <td>None</td>\n",
       "    </tr>\n",
       "    <tr>\n",
       "      <th>1</th>\n",
       "      <td>2018-01-26</td>\n",
       "      <td>09:56:02</td>\n",
       "      <td>java-ii</td>\n",
       "      <td>1</td>\n",
       "      <td>8.0</td>\n",
       "      <td>97.105.19.61</td>\n",
       "      <td>Hampton</td>\n",
       "      <td>2015-09-22</td>\n",
       "      <td>2016-02-06</td>\n",
       "      <td>2016-06-14 19:52:26</td>\n",
       "      <td>1.0</td>\n",
       "      <td>java-ii</td>\n",
       "      <td>None</td>\n",
       "      <td>None</td>\n",
       "    </tr>\n",
       "    <tr>\n",
       "      <th>2</th>\n",
       "      <td>2018-01-26</td>\n",
       "      <td>09:56:05</td>\n",
       "      <td>java-ii/object-oriented-programming</td>\n",
       "      <td>1</td>\n",
       "      <td>8.0</td>\n",
       "      <td>97.105.19.61</td>\n",
       "      <td>Hampton</td>\n",
       "      <td>2015-09-22</td>\n",
       "      <td>2016-02-06</td>\n",
       "      <td>2016-06-14 19:52:26</td>\n",
       "      <td>1.0</td>\n",
       "      <td>java-ii</td>\n",
       "      <td>object-oriented-programming</td>\n",
       "      <td>None</td>\n",
       "    </tr>\n",
       "    <tr>\n",
       "      <th>3</th>\n",
       "      <td>2018-01-26</td>\n",
       "      <td>09:56:06</td>\n",
       "      <td>slides/object_oriented_programming</td>\n",
       "      <td>1</td>\n",
       "      <td>8.0</td>\n",
       "      <td>97.105.19.61</td>\n",
       "      <td>Hampton</td>\n",
       "      <td>2015-09-22</td>\n",
       "      <td>2016-02-06</td>\n",
       "      <td>2016-06-14 19:52:26</td>\n",
       "      <td>1.0</td>\n",
       "      <td>slides</td>\n",
       "      <td>object_oriented_programming</td>\n",
       "      <td>None</td>\n",
       "    </tr>\n",
       "    <tr>\n",
       "      <th>4</th>\n",
       "      <td>2018-01-26</td>\n",
       "      <td>09:56:24</td>\n",
       "      <td>javascript-i/conditionals</td>\n",
       "      <td>2</td>\n",
       "      <td>22.0</td>\n",
       "      <td>97.105.19.61</td>\n",
       "      <td>Teddy</td>\n",
       "      <td>2018-01-08</td>\n",
       "      <td>2018-05-17</td>\n",
       "      <td>2018-01-08 13:59:10</td>\n",
       "      <td>2.0</td>\n",
       "      <td>javascript-i</td>\n",
       "      <td>conditionals</td>\n",
       "      <td>None</td>\n",
       "    </tr>\n",
       "  </tbody>\n",
       "</table>\n",
       "</div>"
      ],
      "text/plain": [
       "         date      time                                 path  user_id  \\\n",
       "0  2018-01-26  09:55:03                                    /        1   \n",
       "1  2018-01-26  09:56:02                              java-ii        1   \n",
       "2  2018-01-26  09:56:05  java-ii/object-oriented-programming        1   \n",
       "3  2018-01-26  09:56:06   slides/object_oriented_programming        1   \n",
       "4  2018-01-26  09:56:24            javascript-i/conditionals        2   \n",
       "\n",
       "   cohort_id            ip     name  start_date    end_date  \\\n",
       "0        8.0  97.105.19.61  Hampton  2015-09-22  2016-02-06   \n",
       "1        8.0  97.105.19.61  Hampton  2015-09-22  2016-02-06   \n",
       "2        8.0  97.105.19.61  Hampton  2015-09-22  2016-02-06   \n",
       "3        8.0  97.105.19.61  Hampton  2015-09-22  2016-02-06   \n",
       "4       22.0  97.105.19.61    Teddy  2018-01-08  2018-05-17   \n",
       "\n",
       "            created_at  program_id primary_topic                     subtopic  \\\n",
       "0  2016-06-14 19:52:26         1.0                                              \n",
       "1  2016-06-14 19:52:26         1.0       java-ii                         None   \n",
       "2  2016-06-14 19:52:26         1.0       java-ii  object-oriented-programming   \n",
       "3  2016-06-14 19:52:26         1.0        slides  object_oriented_programming   \n",
       "4  2018-01-08 13:59:10         2.0  javascript-i                 conditionals   \n",
       "\n",
       "  tertiary  \n",
       "0     None  \n",
       "1     None  \n",
       "2     None  \n",
       "3     None  \n",
       "4     None  "
      ]
     },
     "execution_count": 5,
     "metadata": {},
     "output_type": "execute_result"
    }
   ],
   "source": [
    "df.head()"
   ]
  },
  {
   "cell_type": "code",
   "execution_count": null,
   "id": "af8d8f47",
   "metadata": {},
   "outputs": [],
   "source": [
    "g = sns.catplot(x=\"name\", hue=\"program_id\",\n",
    "                data=df, kind=\"count\",\n",
    "                height=8, aspect=1);"
   ]
  },
  {
   "cell_type": "markdown",
   "id": "71d51323",
   "metadata": {},
   "source": [
    "Are there students who, when active, hardly access the curriculum? If so, what information do you have about these students?\n",
    "boolean column showing whether row accessed path in between start/end date of student (user id, being unique)"
   ]
  },
  {
   "cell_type": "code",
   "execution_count": 146,
   "id": "4b133a3f",
   "metadata": {},
   "outputs": [],
   "source": [
    "pd.set_option('display.max_rows', None)\n",
    "pd.set_option('display.max_columns', None)\n",
    "pd.set_option('display.width', None)\n",
    "pd.set_option('display.max_colwidth', -1)"
   ]
  },
  {
   "cell_type": "code",
   "execution_count": 6,
   "id": "80ba2543",
   "metadata": {
    "scrolled": false
   },
   "outputs": [
    {
     "data": {
      "text/html": [
       "<div>\n",
       "<style scoped>\n",
       "    .dataframe tbody tr th:only-of-type {\n",
       "        vertical-align: middle;\n",
       "    }\n",
       "\n",
       "    .dataframe tbody tr th {\n",
       "        vertical-align: top;\n",
       "    }\n",
       "\n",
       "    .dataframe thead th {\n",
       "        text-align: right;\n",
       "    }\n",
       "</style>\n",
       "<table border=\"1\" class=\"dataframe\">\n",
       "  <thead>\n",
       "    <tr style=\"text-align: right;\">\n",
       "      <th></th>\n",
       "      <th>date</th>\n",
       "      <th>time</th>\n",
       "      <th>path</th>\n",
       "      <th>user_id</th>\n",
       "      <th>cohort_id</th>\n",
       "      <th>ip</th>\n",
       "      <th>name</th>\n",
       "      <th>start_date</th>\n",
       "      <th>end_date</th>\n",
       "      <th>created_at</th>\n",
       "      <th>program_id</th>\n",
       "      <th>primary_topic</th>\n",
       "      <th>subtopic</th>\n",
       "      <th>tertiary</th>\n",
       "    </tr>\n",
       "  </thead>\n",
       "  <tbody>\n",
       "    <tr>\n",
       "      <th>0</th>\n",
       "      <td>2018-01-26</td>\n",
       "      <td>09:55:03</td>\n",
       "      <td>/</td>\n",
       "      <td>1</td>\n",
       "      <td>8.0</td>\n",
       "      <td>97.105.19.61</td>\n",
       "      <td>Hampton</td>\n",
       "      <td>2015-09-22</td>\n",
       "      <td>2016-02-06</td>\n",
       "      <td>2016-06-14 19:52:26</td>\n",
       "      <td>1.0</td>\n",
       "      <td></td>\n",
       "      <td></td>\n",
       "      <td>None</td>\n",
       "    </tr>\n",
       "    <tr>\n",
       "      <th>1</th>\n",
       "      <td>2018-01-26</td>\n",
       "      <td>09:56:02</td>\n",
       "      <td>java-ii</td>\n",
       "      <td>1</td>\n",
       "      <td>8.0</td>\n",
       "      <td>97.105.19.61</td>\n",
       "      <td>Hampton</td>\n",
       "      <td>2015-09-22</td>\n",
       "      <td>2016-02-06</td>\n",
       "      <td>2016-06-14 19:52:26</td>\n",
       "      <td>1.0</td>\n",
       "      <td>java-ii</td>\n",
       "      <td>None</td>\n",
       "      <td>None</td>\n",
       "    </tr>\n",
       "  </tbody>\n",
       "</table>\n",
       "</div>"
      ],
      "text/plain": [
       "         date      time     path  user_id  cohort_id            ip     name  \\\n",
       "0  2018-01-26  09:55:03        /        1        8.0  97.105.19.61  Hampton   \n",
       "1  2018-01-26  09:56:02  java-ii        1        8.0  97.105.19.61  Hampton   \n",
       "\n",
       "   start_date    end_date           created_at  program_id primary_topic  \\\n",
       "0  2015-09-22  2016-02-06  2016-06-14 19:52:26         1.0                 \n",
       "1  2015-09-22  2016-02-06  2016-06-14 19:52:26         1.0       java-ii   \n",
       "\n",
       "  subtopic tertiary  \n",
       "0              None  \n",
       "1     None     None  "
      ]
     },
     "execution_count": 6,
     "metadata": {},
     "output_type": "execute_result"
    }
   ],
   "source": [
    "df.head(2)"
   ]
  },
  {
   "cell_type": "markdown",
   "id": "6a2529de",
   "metadata": {},
   "source": [
    "- filter out for active students by comparing the date of the hit to a date between the start and end dates"
   ]
  },
  {
   "cell_type": "code",
   "execution_count": 51,
   "id": "ede305a3",
   "metadata": {
    "scrolled": true
   },
   "outputs": [],
   "source": [
    "active_students = df[(df.date <= df.end_date)&(df.date >= df.start_date)]"
   ]
  },
  {
   "cell_type": "code",
   "execution_count": 52,
   "id": "9b78c3e7",
   "metadata": {
    "scrolled": false
   },
   "outputs": [
    {
     "data": {
      "text/plain": [
       "count     731.000000\n",
       "mean      885.766074\n",
       "std       647.254908\n",
       "min         1.000000\n",
       "25%       391.500000\n",
       "50%       795.000000\n",
       "75%      1235.500000\n",
       "max      4786.000000\n",
       "Name: user_id, dtype: float64"
      ]
     },
     "execution_count": 52,
     "metadata": {},
     "output_type": "execute_result"
    }
   ],
   "source": [
    "#describe value counts of user_id, shows hits\n",
    "active_students.user_id.value_counts().describe()"
   ]
  },
  {
   "cell_type": "markdown",
   "id": "baa93f7f",
   "metadata": {},
   "source": [
    "- because the user_id is used on multiple rows, set it as index so it can be explored"
   ]
  },
  {
   "cell_type": "code",
   "execution_count": 53,
   "id": "935198c8",
   "metadata": {
    "scrolled": true
   },
   "outputs": [],
   "source": [
    "active_students = active_students.set_index('user_id')"
   ]
  },
  {
   "cell_type": "code",
   "execution_count": 54,
   "id": "f355a1ef",
   "metadata": {
    "scrolled": true
   },
   "outputs": [
    {
     "data": {
      "text/html": [
       "<div>\n",
       "<style scoped>\n",
       "    .dataframe tbody tr th:only-of-type {\n",
       "        vertical-align: middle;\n",
       "    }\n",
       "\n",
       "    .dataframe tbody tr th {\n",
       "        vertical-align: top;\n",
       "    }\n",
       "\n",
       "    .dataframe thead th {\n",
       "        text-align: right;\n",
       "    }\n",
       "</style>\n",
       "<table border=\"1\" class=\"dataframe\">\n",
       "  <thead>\n",
       "    <tr style=\"text-align: right;\">\n",
       "      <th></th>\n",
       "      <th>date</th>\n",
       "      <th>time</th>\n",
       "      <th>path</th>\n",
       "      <th>cohort_id</th>\n",
       "      <th>ip</th>\n",
       "      <th>name</th>\n",
       "      <th>start_date</th>\n",
       "      <th>end_date</th>\n",
       "      <th>created_at</th>\n",
       "      <th>program_id</th>\n",
       "      <th>primary_topic</th>\n",
       "      <th>subtopic</th>\n",
       "      <th>tertiary</th>\n",
       "    </tr>\n",
       "    <tr>\n",
       "      <th>user_id</th>\n",
       "      <th></th>\n",
       "      <th></th>\n",
       "      <th></th>\n",
       "      <th></th>\n",
       "      <th></th>\n",
       "      <th></th>\n",
       "      <th></th>\n",
       "      <th></th>\n",
       "      <th></th>\n",
       "      <th></th>\n",
       "      <th></th>\n",
       "      <th></th>\n",
       "      <th></th>\n",
       "    </tr>\n",
       "  </thead>\n",
       "  <tbody>\n",
       "    <tr>\n",
       "      <th>2</th>\n",
       "      <td>2018-01-26</td>\n",
       "      <td>09:56:24</td>\n",
       "      <td>javascript-i/conditionals</td>\n",
       "      <td>22.0</td>\n",
       "      <td>97.105.19.61</td>\n",
       "      <td>Teddy</td>\n",
       "      <td>2018-01-08</td>\n",
       "      <td>2018-05-17</td>\n",
       "      <td>2018-01-08 13:59:10</td>\n",
       "      <td>2.0</td>\n",
       "      <td>javascript-i</td>\n",
       "      <td>conditionals</td>\n",
       "      <td>None</td>\n",
       "    </tr>\n",
       "    <tr>\n",
       "      <th>2</th>\n",
       "      <td>2018-01-26</td>\n",
       "      <td>09:56:41</td>\n",
       "      <td>javascript-i/loops</td>\n",
       "      <td>22.0</td>\n",
       "      <td>97.105.19.61</td>\n",
       "      <td>Teddy</td>\n",
       "      <td>2018-01-08</td>\n",
       "      <td>2018-05-17</td>\n",
       "      <td>2018-01-08 13:59:10</td>\n",
       "      <td>2.0</td>\n",
       "      <td>javascript-i</td>\n",
       "      <td>loops</td>\n",
       "      <td>None</td>\n",
       "    </tr>\n",
       "    <tr>\n",
       "      <th>3</th>\n",
       "      <td>2018-01-26</td>\n",
       "      <td>09:56:46</td>\n",
       "      <td>javascript-i/conditionals</td>\n",
       "      <td>22.0</td>\n",
       "      <td>97.105.19.61</td>\n",
       "      <td>Teddy</td>\n",
       "      <td>2018-01-08</td>\n",
       "      <td>2018-05-17</td>\n",
       "      <td>2018-01-08 13:59:10</td>\n",
       "      <td>2.0</td>\n",
       "      <td>javascript-i</td>\n",
       "      <td>conditionals</td>\n",
       "      <td>None</td>\n",
       "    </tr>\n",
       "    <tr>\n",
       "      <th>3</th>\n",
       "      <td>2018-01-26</td>\n",
       "      <td>09:56:48</td>\n",
       "      <td>javascript-i/functions</td>\n",
       "      <td>22.0</td>\n",
       "      <td>97.105.19.61</td>\n",
       "      <td>Teddy</td>\n",
       "      <td>2018-01-08</td>\n",
       "      <td>2018-05-17</td>\n",
       "      <td>2018-01-08 13:59:10</td>\n",
       "      <td>2.0</td>\n",
       "      <td>javascript-i</td>\n",
       "      <td>functions</td>\n",
       "      <td>None</td>\n",
       "    </tr>\n",
       "    <tr>\n",
       "      <th>2</th>\n",
       "      <td>2018-01-26</td>\n",
       "      <td>09:56:59</td>\n",
       "      <td>javascript-i/loops</td>\n",
       "      <td>22.0</td>\n",
       "      <td>97.105.19.61</td>\n",
       "      <td>Teddy</td>\n",
       "      <td>2018-01-08</td>\n",
       "      <td>2018-05-17</td>\n",
       "      <td>2018-01-08 13:59:10</td>\n",
       "      <td>2.0</td>\n",
       "      <td>javascript-i</td>\n",
       "      <td>loops</td>\n",
       "      <td>None</td>\n",
       "    </tr>\n",
       "  </tbody>\n",
       "</table>\n",
       "</div>"
      ],
      "text/plain": [
       "               date      time                       path  cohort_id  \\\n",
       "user_id                                                               \n",
       "2        2018-01-26  09:56:24  javascript-i/conditionals       22.0   \n",
       "2        2018-01-26  09:56:41         javascript-i/loops       22.0   \n",
       "3        2018-01-26  09:56:46  javascript-i/conditionals       22.0   \n",
       "3        2018-01-26  09:56:48     javascript-i/functions       22.0   \n",
       "2        2018-01-26  09:56:59         javascript-i/loops       22.0   \n",
       "\n",
       "                   ip   name  start_date    end_date           created_at  \\\n",
       "user_id                                                                     \n",
       "2        97.105.19.61  Teddy  2018-01-08  2018-05-17  2018-01-08 13:59:10   \n",
       "2        97.105.19.61  Teddy  2018-01-08  2018-05-17  2018-01-08 13:59:10   \n",
       "3        97.105.19.61  Teddy  2018-01-08  2018-05-17  2018-01-08 13:59:10   \n",
       "3        97.105.19.61  Teddy  2018-01-08  2018-05-17  2018-01-08 13:59:10   \n",
       "2        97.105.19.61  Teddy  2018-01-08  2018-05-17  2018-01-08 13:59:10   \n",
       "\n",
       "         program_id primary_topic      subtopic tertiary  \n",
       "user_id                                                   \n",
       "2               2.0  javascript-i  conditionals     None  \n",
       "2               2.0  javascript-i         loops     None  \n",
       "3               2.0  javascript-i  conditionals     None  \n",
       "3               2.0  javascript-i     functions     None  \n",
       "2               2.0  javascript-i         loops     None  "
      ]
     },
     "execution_count": 54,
     "metadata": {},
     "output_type": "execute_result"
    }
   ],
   "source": [
    "active_students.head()"
   ]
  },
  {
   "cell_type": "markdown",
   "id": "50517829",
   "metadata": {},
   "source": [
    "- simplify dataframe, drop unused columns"
   ]
  },
  {
   "cell_type": "code",
   "execution_count": 55,
   "id": "ff87479c",
   "metadata": {},
   "outputs": [],
   "source": [
    "active_students = active_students.drop(columns=['start_date','end_date','created_at','date','time'])"
   ]
  },
  {
   "cell_type": "code",
   "execution_count": 56,
   "id": "f893be80",
   "metadata": {
    "scrolled": false
   },
   "outputs": [
    {
     "data": {
      "text/html": [
       "<div>\n",
       "<style scoped>\n",
       "    .dataframe tbody tr th:only-of-type {\n",
       "        vertical-align: middle;\n",
       "    }\n",
       "\n",
       "    .dataframe tbody tr th {\n",
       "        vertical-align: top;\n",
       "    }\n",
       "\n",
       "    .dataframe thead th {\n",
       "        text-align: right;\n",
       "    }\n",
       "</style>\n",
       "<table border=\"1\" class=\"dataframe\">\n",
       "  <thead>\n",
       "    <tr style=\"text-align: right;\">\n",
       "      <th></th>\n",
       "      <th>path</th>\n",
       "      <th>cohort_id</th>\n",
       "      <th>ip</th>\n",
       "      <th>name</th>\n",
       "      <th>program_id</th>\n",
       "      <th>primary_topic</th>\n",
       "      <th>subtopic</th>\n",
       "      <th>tertiary</th>\n",
       "    </tr>\n",
       "    <tr>\n",
       "      <th>user_id</th>\n",
       "      <th></th>\n",
       "      <th></th>\n",
       "      <th></th>\n",
       "      <th></th>\n",
       "      <th></th>\n",
       "      <th></th>\n",
       "      <th></th>\n",
       "      <th></th>\n",
       "    </tr>\n",
       "  </thead>\n",
       "  <tbody>\n",
       "    <tr>\n",
       "      <th>2</th>\n",
       "      <td>javascript-i/conditionals</td>\n",
       "      <td>22.0</td>\n",
       "      <td>97.105.19.61</td>\n",
       "      <td>Teddy</td>\n",
       "      <td>2.0</td>\n",
       "      <td>javascript-i</td>\n",
       "      <td>conditionals</td>\n",
       "      <td>None</td>\n",
       "    </tr>\n",
       "    <tr>\n",
       "      <th>2</th>\n",
       "      <td>javascript-i/loops</td>\n",
       "      <td>22.0</td>\n",
       "      <td>97.105.19.61</td>\n",
       "      <td>Teddy</td>\n",
       "      <td>2.0</td>\n",
       "      <td>javascript-i</td>\n",
       "      <td>loops</td>\n",
       "      <td>None</td>\n",
       "    </tr>\n",
       "    <tr>\n",
       "      <th>3</th>\n",
       "      <td>javascript-i/conditionals</td>\n",
       "      <td>22.0</td>\n",
       "      <td>97.105.19.61</td>\n",
       "      <td>Teddy</td>\n",
       "      <td>2.0</td>\n",
       "      <td>javascript-i</td>\n",
       "      <td>conditionals</td>\n",
       "      <td>None</td>\n",
       "    </tr>\n",
       "    <tr>\n",
       "      <th>3</th>\n",
       "      <td>javascript-i/functions</td>\n",
       "      <td>22.0</td>\n",
       "      <td>97.105.19.61</td>\n",
       "      <td>Teddy</td>\n",
       "      <td>2.0</td>\n",
       "      <td>javascript-i</td>\n",
       "      <td>functions</td>\n",
       "      <td>None</td>\n",
       "    </tr>\n",
       "    <tr>\n",
       "      <th>2</th>\n",
       "      <td>javascript-i/loops</td>\n",
       "      <td>22.0</td>\n",
       "      <td>97.105.19.61</td>\n",
       "      <td>Teddy</td>\n",
       "      <td>2.0</td>\n",
       "      <td>javascript-i</td>\n",
       "      <td>loops</td>\n",
       "      <td>None</td>\n",
       "    </tr>\n",
       "  </tbody>\n",
       "</table>\n",
       "</div>"
      ],
      "text/plain": [
       "                              path  cohort_id            ip   name  \\\n",
       "user_id                                                              \n",
       "2        javascript-i/conditionals       22.0  97.105.19.61  Teddy   \n",
       "2               javascript-i/loops       22.0  97.105.19.61  Teddy   \n",
       "3        javascript-i/conditionals       22.0  97.105.19.61  Teddy   \n",
       "3           javascript-i/functions       22.0  97.105.19.61  Teddy   \n",
       "2               javascript-i/loops       22.0  97.105.19.61  Teddy   \n",
       "\n",
       "         program_id primary_topic      subtopic tertiary  \n",
       "user_id                                                   \n",
       "2               2.0  javascript-i  conditionals     None  \n",
       "2               2.0  javascript-i         loops     None  \n",
       "3               2.0  javascript-i  conditionals     None  \n",
       "3               2.0  javascript-i     functions     None  \n",
       "2               2.0  javascript-i         loops     None  "
      ]
     },
     "execution_count": 56,
     "metadata": {},
     "output_type": "execute_result"
    }
   ],
   "source": [
    "active_students.head()"
   ]
  },
  {
   "cell_type": "code",
   "execution_count": 57,
   "id": "70c825e9",
   "metadata": {},
   "outputs": [],
   "source": [
    "active_students = active_students[active_students.name !='Staff']"
   ]
  },
  {
   "cell_type": "markdown",
   "id": "2a481f9f",
   "metadata": {},
   "source": [
    "- utilizing simplified dataframe, we setup where we draw the line for limited use of active students, around 150 hits, below the lower IQR of 193"
   ]
  },
  {
   "cell_type": "code",
   "execution_count": 58,
   "id": "f3273e67",
   "metadata": {
    "scrolled": true
   },
   "outputs": [
    {
     "data": {
      "text/plain": [
       "<pandas.core.groupby.generic.DataFrameGroupBy object at 0x000001FAD18E4760>"
      ]
     },
     "execution_count": 58,
     "metadata": {},
     "output_type": "execute_result"
    }
   ],
   "source": [
    "active_students[active_students.index.value_counts() <=300].groupby(['user_id','name'],axis=0)"
   ]
  },
  {
   "cell_type": "code",
   "execution_count": 61,
   "id": "2814d294",
   "metadata": {},
   "outputs": [],
   "source": [
    "temp = pd.DataFrame(active_students[active_students.index.value_counts() <=300].groupby('user_id').name.value_counts())"
   ]
  },
  {
   "cell_type": "code",
   "execution_count": 62,
   "id": "82f2b420",
   "metadata": {
    "scrolled": false
   },
   "outputs": [
    {
     "data": {
      "text/html": [
       "<div>\n",
       "<style scoped>\n",
       "    .dataframe tbody tr th:only-of-type {\n",
       "        vertical-align: middle;\n",
       "    }\n",
       "\n",
       "    .dataframe tbody tr th {\n",
       "        vertical-align: top;\n",
       "    }\n",
       "\n",
       "    .dataframe thead th {\n",
       "        text-align: right;\n",
       "    }\n",
       "</style>\n",
       "<table border=\"1\" class=\"dataframe\">\n",
       "  <thead>\n",
       "    <tr style=\"text-align: right;\">\n",
       "      <th></th>\n",
       "      <th></th>\n",
       "      <th>name</th>\n",
       "    </tr>\n",
       "    <tr>\n",
       "      <th>user_id</th>\n",
       "      <th>name</th>\n",
       "      <th></th>\n",
       "    </tr>\n",
       "  </thead>\n",
       "  <tbody>\n",
       "    <tr>\n",
       "      <th>10</th>\n",
       "      <th>Sequoia</th>\n",
       "      <td>205</td>\n",
       "    </tr>\n",
       "    <tr>\n",
       "      <th>13</th>\n",
       "      <th>Teddy</th>\n",
       "      <td>79</td>\n",
       "    </tr>\n",
       "    <tr>\n",
       "      <th>15</th>\n",
       "      <th>Sequoia</th>\n",
       "      <td>179</td>\n",
       "    </tr>\n",
       "    <tr>\n",
       "      <th>16</th>\n",
       "      <th>Sequoia</th>\n",
       "      <td>141</td>\n",
       "    </tr>\n",
       "    <tr>\n",
       "      <th>17</th>\n",
       "      <th>Sequoia</th>\n",
       "      <td>134</td>\n",
       "    </tr>\n",
       "    <tr>\n",
       "      <th>...</th>\n",
       "      <th>...</th>\n",
       "      <td>...</td>\n",
       "    </tr>\n",
       "    <tr>\n",
       "      <th>976</th>\n",
       "      <th>Oberon</th>\n",
       "      <td>29</td>\n",
       "    </tr>\n",
       "    <tr>\n",
       "      <th>977</th>\n",
       "      <th>Oberon</th>\n",
       "      <td>86</td>\n",
       "    </tr>\n",
       "    <tr>\n",
       "      <th>978</th>\n",
       "      <th>Oberon</th>\n",
       "      <td>55</td>\n",
       "    </tr>\n",
       "    <tr>\n",
       "      <th>979</th>\n",
       "      <th>Oberon</th>\n",
       "      <td>127</td>\n",
       "    </tr>\n",
       "    <tr>\n",
       "      <th>981</th>\n",
       "      <th>Neptune</th>\n",
       "      <td>42</td>\n",
       "    </tr>\n",
       "  </tbody>\n",
       "</table>\n",
       "<p>155 rows × 1 columns</p>\n",
       "</div>"
      ],
      "text/plain": [
       "                 name\n",
       "user_id name         \n",
       "10      Sequoia   205\n",
       "13      Teddy      79\n",
       "15      Sequoia   179\n",
       "16      Sequoia   141\n",
       "17      Sequoia   134\n",
       "...               ...\n",
       "976     Oberon     29\n",
       "977     Oberon     86\n",
       "978     Oberon     55\n",
       "979     Oberon    127\n",
       "981     Neptune    42\n",
       "\n",
       "[155 rows x 1 columns]"
      ]
     },
     "execution_count": 62,
     "metadata": {},
     "output_type": "execute_result"
    }
   ],
   "source": [
    "temp.sort_index()"
   ]
  },
  {
   "cell_type": "code",
   "execution_count": 63,
   "id": "5f476d1a",
   "metadata": {},
   "outputs": [
    {
     "data": {
      "text/plain": [
       "155"
      ]
     },
     "execution_count": 63,
     "metadata": {},
     "output_type": "execute_result"
    }
   ],
   "source": [
    "temp.index.nunique()"
   ]
  },
  {
   "cell_type": "code",
   "execution_count": 156,
   "id": "5db92963",
   "metadata": {},
   "outputs": [
    {
     "ename": "AttributeError",
     "evalue": "'DataFrame' object has no attribute 'time'",
     "output_type": "error",
     "traceback": [
      "\u001b[1;31m---------------------------------------------------------------------------\u001b[0m",
      "\u001b[1;31mAttributeError\u001b[0m                            Traceback (most recent call last)",
      "Input \u001b[1;32mIn [156]\u001b[0m, in \u001b[0;36m<cell line: 1>\u001b[1;34m()\u001b[0m\n\u001b[1;32m----> 1\u001b[0m \u001b[43mtemp\u001b[49m\u001b[38;5;241;43m.\u001b[39;49m\u001b[43mtime\u001b[49m\u001b[38;5;241m.\u001b[39mplot\u001b[38;5;241m.\u001b[39mdensity()\n",
      "File \u001b[1;32m~\\anaconda3\\lib\\site-packages\\pandas\\core\\generic.py:5575\u001b[0m, in \u001b[0;36mNDFrame.__getattr__\u001b[1;34m(self, name)\u001b[0m\n\u001b[0;32m   5568\u001b[0m \u001b[38;5;28;01mif\u001b[39;00m (\n\u001b[0;32m   5569\u001b[0m     name \u001b[38;5;129;01mnot\u001b[39;00m \u001b[38;5;129;01min\u001b[39;00m \u001b[38;5;28mself\u001b[39m\u001b[38;5;241m.\u001b[39m_internal_names_set\n\u001b[0;32m   5570\u001b[0m     \u001b[38;5;129;01mand\u001b[39;00m name \u001b[38;5;129;01mnot\u001b[39;00m \u001b[38;5;129;01min\u001b[39;00m \u001b[38;5;28mself\u001b[39m\u001b[38;5;241m.\u001b[39m_metadata\n\u001b[0;32m   5571\u001b[0m     \u001b[38;5;129;01mand\u001b[39;00m name \u001b[38;5;129;01mnot\u001b[39;00m \u001b[38;5;129;01min\u001b[39;00m \u001b[38;5;28mself\u001b[39m\u001b[38;5;241m.\u001b[39m_accessors\n\u001b[0;32m   5572\u001b[0m     \u001b[38;5;129;01mand\u001b[39;00m \u001b[38;5;28mself\u001b[39m\u001b[38;5;241m.\u001b[39m_info_axis\u001b[38;5;241m.\u001b[39m_can_hold_identifiers_and_holds_name(name)\n\u001b[0;32m   5573\u001b[0m ):\n\u001b[0;32m   5574\u001b[0m     \u001b[38;5;28;01mreturn\u001b[39;00m \u001b[38;5;28mself\u001b[39m[name]\n\u001b[1;32m-> 5575\u001b[0m \u001b[38;5;28;01mreturn\u001b[39;00m \u001b[38;5;28;43mobject\u001b[39;49m\u001b[38;5;241;43m.\u001b[39;49m\u001b[38;5;21;43m__getattribute__\u001b[39;49m\u001b[43m(\u001b[49m\u001b[38;5;28;43mself\u001b[39;49m\u001b[43m,\u001b[49m\u001b[43m \u001b[49m\u001b[43mname\u001b[49m\u001b[43m)\u001b[49m\n",
      "\u001b[1;31mAttributeError\u001b[0m: 'DataFrame' object has no attribute 'time'"
     ]
    }
   ],
   "source": [
    "temp.plot.density()"
   ]
  },
  {
   "cell_type": "markdown",
   "id": "51d13993",
   "metadata": {},
   "source": [
    "- Question 3: by filtering the dates between the range of start and end date, we isolated the active students. after some basic analysis, we established a baseline for 'low usage' values that fall below the 25% IQR from there, because each observation has a user_id, and that user_id can show up multiple times, we set the index to the user_id, this allowed us to "
   ]
  },
  {
   "cell_type": "code",
   "execution_count": 38,
   "id": "a0280426",
   "metadata": {},
   "outputs": [
    {
     "data": {
      "image/png": "[encoded data removed]",
      "text/plain": [
       "<Figure size 525.75x432 with 1 Axes>"
      ]
     },
     "metadata": {
      "needs_background": "light"
     },
     "output_type": "display_data"
    }
   ],
   "source": [
    "g = sns.catplot(x=\"program_id\", hue=\"name\",\n",
    "                data=active_students, kind=\"count\",\n",
    "                height=6, aspect=1);"
   ]
  },
  {
   "cell_type": "code",
   "execution_count": 155,
   "id": "a0016b46",
   "metadata": {},
   "outputs": [
    {
     "data": {
      "image/png": "[encoded data removed]",
      "text/plain": [
       "<Figure size 501.175x432 with 1 Axes>"
      ]
     },
     "metadata": {},
     "output_type": "display_data"
    }
   ],
   "source": [
    "g = sns.catplot(x=\"name\", hue=\"program_id\",\n",
    "                data=active_students, kind=\"count\",\n",
    "                height=6, aspect=1);"
   ]
  },
  {
   "cell_type": "code",
   "execution_count": 171,
   "id": "47fde7fd",
   "metadata": {
    "scrolled": true
   },
   "outputs": [],
   "source": [
    "tempindex = df.time.value_counts().index"
   ]
  },
  {
   "cell_type": "markdown",
   "id": "03c0bdf4",
   "metadata": {},
   "source": [
    "match dataframe with indices in an array"
   ]
  },
  {
   "cell_type": "code",
   "execution_count": 208,
   "id": "12772f35",
   "metadata": {},
   "outputs": [],
   "source": [
    "#create a df and use groupby with date, time, ip and the aggregation on the time, reset index, sort by time\n",
    "scrapingip = df.groupby(['date', 'time', 'ip'])[['time']].agg([ 'count']).reset_index().sort_values(by=[('time', 'count')], ascending=False)"
   ]
  },
  {
   "cell_type": "code",
   "execution_count": 209,
   "id": "bd006083",
   "metadata": {
    "scrolled": true
   },
   "outputs": [
    {
     "data": {
      "text/html": [
       "<div>\n",
       "<style scoped>\n",
       "    .dataframe tbody tr th:only-of-type {\n",
       "        vertical-align: middle;\n",
       "    }\n",
       "\n",
       "    .dataframe tbody tr th {\n",
       "        vertical-align: top;\n",
       "    }\n",
       "\n",
       "    .dataframe thead tr th {\n",
       "        text-align: left;\n",
       "    }\n",
       "</style>\n",
       "<table border=\"1\" class=\"dataframe\">\n",
       "  <thead>\n",
       "    <tr>\n",
       "      <th></th>\n",
       "      <th>date</th>\n",
       "      <th>time</th>\n",
       "      <th>ip</th>\n",
       "      <th>time</th>\n",
       "    </tr>\n",
       "    <tr>\n",
       "      <th></th>\n",
       "      <th></th>\n",
       "      <th></th>\n",
       "      <th></th>\n",
       "      <th>count</th>\n",
       "    </tr>\n",
       "  </thead>\n",
       "  <tbody>\n",
       "    <tr>\n",
       "      <th>195787</th>\n",
       "      <td>2019-03-03</td>\n",
       "      <td>22:52:09</td>\n",
       "      <td>204.44.112.76</td>\n",
       "      <td>30</td>\n",
       "    </tr>\n",
       "    <tr>\n",
       "      <th>195785</th>\n",
       "      <td>2019-03-03</td>\n",
       "      <td>22:52:07</td>\n",
       "      <td>204.44.112.76</td>\n",
       "      <td>30</td>\n",
       "    </tr>\n",
       "    <tr>\n",
       "      <th>195789</th>\n",
       "      <td>2019-03-03</td>\n",
       "      <td>22:52:11</td>\n",
       "      <td>204.44.112.76</td>\n",
       "      <td>25</td>\n",
       "    </tr>\n",
       "    <tr>\n",
       "      <th>195786</th>\n",
       "      <td>2019-03-03</td>\n",
       "      <td>22:52:08</td>\n",
       "      <td>204.44.112.76</td>\n",
       "      <td>25</td>\n",
       "    </tr>\n",
       "    <tr>\n",
       "      <th>195788</th>\n",
       "      <td>2019-03-03</td>\n",
       "      <td>22:52:10</td>\n",
       "      <td>204.44.112.76</td>\n",
       "      <td>25</td>\n",
       "    </tr>\n",
       "  </tbody>\n",
       "</table>\n",
       "</div>"
      ],
      "text/plain": [
       "              date      time             ip  time\n",
       "                                            count\n",
       "195787  2019-03-03  22:52:09  204.44.112.76  30  \n",
       "195785  2019-03-03  22:52:07  204.44.112.76  30  \n",
       "195789  2019-03-03  22:52:11  204.44.112.76  25  \n",
       "195786  2019-03-03  22:52:08  204.44.112.76  25  \n",
       "195788  2019-03-03  22:52:10  204.44.112.76  25  "
      ]
     },
     "execution_count": 209,
     "metadata": {},
     "output_type": "execute_result"
    }
   ],
   "source": [
    "scrapingip.head()"
   ]
  },
  {
   "cell_type": "code",
   "execution_count": 210,
   "id": "7ac198b6",
   "metadata": {},
   "outputs": [
    {
     "data": {
      "text/plain": [
       "MultiIndex([('date',      ''),\n",
       "            ('time',      ''),\n",
       "            (  'ip',      ''),\n",
       "            ('time', 'count')],\n",
       "           )"
      ]
     },
     "execution_count": 210,
     "metadata": {},
     "output_type": "execute_result"
    }
   ],
   "source": [
    "scrapingip.columns"
   ]
  },
  {
   "cell_type": "code",
   "execution_count": 213,
   "id": "c2828e19",
   "metadata": {},
   "outputs": [
    {
     "data": {
      "text/html": [
       "<div>\n",
       "<style scoped>\n",
       "    .dataframe tbody tr th:only-of-type {\n",
       "        vertical-align: middle;\n",
       "    }\n",
       "\n",
       "    .dataframe tbody tr th {\n",
       "        vertical-align: top;\n",
       "    }\n",
       "\n",
       "    .dataframe thead tr th {\n",
       "        text-align: left;\n",
       "    }\n",
       "</style>\n",
       "<table border=\"1\" class=\"dataframe\">\n",
       "  <thead>\n",
       "    <tr>\n",
       "      <th></th>\n",
       "      <th>date</th>\n",
       "      <th>time</th>\n",
       "      <th>ip</th>\n",
       "      <th>time</th>\n",
       "    </tr>\n",
       "    <tr>\n",
       "      <th></th>\n",
       "      <th></th>\n",
       "      <th></th>\n",
       "      <th></th>\n",
       "      <th>count</th>\n",
       "    </tr>\n",
       "  </thead>\n",
       "  <tbody>\n",
       "    <tr>\n",
       "      <th>195787</th>\n",
       "      <td>2019-03-03</td>\n",
       "      <td>22:52:09</td>\n",
       "      <td>204.44.112.76</td>\n",
       "      <td>30</td>\n",
       "    </tr>\n",
       "    <tr>\n",
       "      <th>195785</th>\n",
       "      <td>2019-03-03</td>\n",
       "      <td>22:52:07</td>\n",
       "      <td>204.44.112.76</td>\n",
       "      <td>30</td>\n",
       "    </tr>\n",
       "    <tr>\n",
       "      <th>195789</th>\n",
       "      <td>2019-03-03</td>\n",
       "      <td>22:52:11</td>\n",
       "      <td>204.44.112.76</td>\n",
       "      <td>25</td>\n",
       "    </tr>\n",
       "    <tr>\n",
       "      <th>195786</th>\n",
       "      <td>2019-03-03</td>\n",
       "      <td>22:52:08</td>\n",
       "      <td>204.44.112.76</td>\n",
       "      <td>25</td>\n",
       "    </tr>\n",
       "    <tr>\n",
       "      <th>195788</th>\n",
       "      <td>2019-03-03</td>\n",
       "      <td>22:52:10</td>\n",
       "      <td>204.44.112.76</td>\n",
       "      <td>25</td>\n",
       "    </tr>\n",
       "    <tr>\n",
       "      <th>195784</th>\n",
       "      <td>2019-03-03</td>\n",
       "      <td>22:52:06</td>\n",
       "      <td>204.44.112.76</td>\n",
       "      <td>21</td>\n",
       "    </tr>\n",
       "    <tr>\n",
       "      <th>572770</th>\n",
       "      <td>2020-08-02</td>\n",
       "      <td>19:07:51</td>\n",
       "      <td>70.122.42.87</td>\n",
       "      <td>16</td>\n",
       "    </tr>\n",
       "    <tr>\n",
       "      <th>379188</th>\n",
       "      <td>2019-12-19</td>\n",
       "      <td>23:58:01</td>\n",
       "      <td>172.124.70.146</td>\n",
       "      <td>12</td>\n",
       "    </tr>\n",
       "    <tr>\n",
       "      <th>195790</th>\n",
       "      <td>2019-03-03</td>\n",
       "      <td>22:52:12</td>\n",
       "      <td>204.44.112.76</td>\n",
       "      <td>12</td>\n",
       "    </tr>\n",
       "    <tr>\n",
       "      <th>379185</th>\n",
       "      <td>2019-12-19</td>\n",
       "      <td>23:57:58</td>\n",
       "      <td>172.124.70.146</td>\n",
       "      <td>12</td>\n",
       "    </tr>\n",
       "    <tr>\n",
       "      <th>379183</th>\n",
       "      <td>2019-12-19</td>\n",
       "      <td>23:57:56</td>\n",
       "      <td>172.124.70.146</td>\n",
       "      <td>12</td>\n",
       "    </tr>\n",
       "    <tr>\n",
       "      <th>458087</th>\n",
       "      <td>2020-04-05</td>\n",
       "      <td>17:41:11</td>\n",
       "      <td>172.124.67.93</td>\n",
       "      <td>12</td>\n",
       "    </tr>\n",
       "    <tr>\n",
       "      <th>379186</th>\n",
       "      <td>2019-12-19</td>\n",
       "      <td>23:57:59</td>\n",
       "      <td>172.124.70.146</td>\n",
       "      <td>11</td>\n",
       "    </tr>\n",
       "    <tr>\n",
       "      <th>790422</th>\n",
       "      <td>2021-04-01</td>\n",
       "      <td>16:08:25</td>\n",
       "      <td>70.112.179.142</td>\n",
       "      <td>11</td>\n",
       "    </tr>\n",
       "  </tbody>\n",
       "</table>\n",
       "</div>"
      ],
      "text/plain": [
       "              date      time              ip  time\n",
       "                                             count\n",
       "195787  2019-03-03  22:52:09  204.44.112.76   30  \n",
       "195785  2019-03-03  22:52:07  204.44.112.76   30  \n",
       "195789  2019-03-03  22:52:11  204.44.112.76   25  \n",
       "195786  2019-03-03  22:52:08  204.44.112.76   25  \n",
       "195788  2019-03-03  22:52:10  204.44.112.76   25  \n",
       "195784  2019-03-03  22:52:06  204.44.112.76   21  \n",
       "572770  2020-08-02  19:07:51  70.122.42.87    16  \n",
       "379188  2019-12-19  23:58:01  172.124.70.146  12  \n",
       "195790  2019-03-03  22:52:12  204.44.112.76   12  \n",
       "379185  2019-12-19  23:57:58  172.124.70.146  12  \n",
       "379183  2019-12-19  23:57:56  172.124.70.146  12  \n",
       "458087  2020-04-05  17:41:11  172.124.67.93   12  \n",
       "379186  2019-12-19  23:57:59  172.124.70.146  11  \n",
       "790422  2021-04-01  16:08:25  70.112.179.142  11  "
      ]
     },
     "execution_count": 213,
     "metadata": {},
     "output_type": "execute_result"
    }
   ],
   "source": [
    "scrapingip[scrapingip[('time', 'count')]> 10]"
   ]
  },
  {
   "cell_type": "code",
   "execution_count": 212,
   "id": "1f617a4b",
   "metadata": {},
   "outputs": [
    {
     "name": "stdout",
     "output_type": "stream",
     "text": [
      "<class 'pandas.core.frame.DataFrame'>\n",
      "Int64Index: 138 entries, 195787 to 779259\n",
      "Data columns (total 4 columns):\n",
      " #   Column         Non-Null Count  Dtype \n",
      "---  ------         --------------  ----- \n",
      " 0   (date, )       138 non-null    object\n",
      " 1   (time, )       138 non-null    object\n",
      " 2   (ip, )         138 non-null    object\n",
      " 3   (time, count)  138 non-null    int64 \n",
      "dtypes: int64(1), object(3)\n",
      "memory usage: 5.4+ KB\n"
     ]
    }
   ],
   "source": [
    "scrapingip[scrapingip[('time', 'count')]> 5].info()"
   ]
  },
  {
   "cell_type": "code",
   "execution_count": null,
   "id": "18e13cba",
   "metadata": {},
   "outputs": [],
   "source": []
  }
 ],
 "metadata": {
  "kernelspec": {
   "display_name": "Python 3 (ipykernel)",
   "language": "python",
   "name": "python3"
  },
  "language_info": {
   "codemirror_mode": {
    "name": "ipython",
    "version": 3
   },
   "file_extension": ".py",
   "mimetype": "text/x-python",
   "name": "python",
   "nbconvert_exporter": "python",
   "pygments_lexer": "ipython3",
   "version": "3.9.12"
  }
 },
 "nbformat": 4,
 "nbformat_minor": 5
}
